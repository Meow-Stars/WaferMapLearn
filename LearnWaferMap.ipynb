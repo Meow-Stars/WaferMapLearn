{
 "cells": [
  {
   "cell_type": "code",
   "execution_count": 1,
   "metadata": {
    "collapsed": true
   },
   "outputs": [
    {
     "name": "stdout",
     "output_type": "stream",
     "text": [
      "['LSWMD.pkl']\n"
     ]
    }
   ],
   "source": [
    "# 导入python包，科学计算三大天王\n",
    "import numpy as np\n",
    "import pandas as pd\n",
    "import matplotlib.pyplot as plt\n",
    "# 魔法命令，jupyter使用plt绘图的时候，输出静态图片\n",
    "# 除了inline还有auto和notebook，auto是单独开一个绘图窗口，notebook不仅单开窗口，图片还可以放大缩小\n",
    "%matplotlib inline\n",
    "\n",
    "import os\n",
    "print(os.listdir(\"./input\"))               # 输出指定文件夹中所包含的文件/文件夹名称\n",
    "import warnings\n",
    "warnings.filterwarnings(\"ignore\")"
   ]
  },
  {
   "cell_type": "code",
   "execution_count": 2,
   "outputs": [
    {
     "name": "stdout",
     "output_type": "stream",
     "text": [
      "<class 'pandas.core.frame.DataFrame'>\n",
      "RangeIndex: 811457 entries, 0 to 811456\n",
      "Data columns (total 6 columns):\n",
      " #   Column          Non-Null Count   Dtype  \n",
      "---  ------          --------------   -----  \n",
      " 0   waferMap        811457 non-null  object \n",
      " 1   dieSize         811457 non-null  float64\n",
      " 2   lotName         811457 non-null  object \n",
      " 3   waferIndex      811457 non-null  float64\n",
      " 4   trianTestLabel  811457 non-null  object \n",
      " 5   failureType     811457 non-null  object \n",
      "dtypes: float64(2), object(4)\n",
      "memory usage: 37.1+ MB\n"
     ]
    }
   ],
   "source": [
    "# 读取数据集并输出数据集概览，该数据集总共811457行6列，列分别为\n",
    "# 晶圆图、有问题的晶粒数量【？】、批次名称、晶圆在所属批次中的编号（6表示所属批次的第6个晶圆图）、训练/测试标签、失败类型\n",
    "# 其中trainTestLabel是已经由专家人工识别后labeled的，本ipynb中忽略该部分，并会在后面重新将数据集分为训练集和测试集\n",
    "df = pd.read_pickle(\"./input/LSWMD.pkl\")\n",
    "df.info()"
   ],
   "metadata": {
    "collapsed": false,
    "pycharm": {
     "name": "#%%\n"
    }
   }
  },
  {
   "cell_type": "code",
   "execution_count": 3,
   "outputs": [
    {
     "data": {
      "text/plain": "                                            waferMap  dieSize lotName  \\\n0  [[0, 0, 0, 0, 0, 0, 0, 0, 0, 0, 0, 0, 0, 0, 0,...   1683.0    lot1   \n1  [[0, 0, 0, 0, 0, 0, 0, 0, 0, 0, 0, 0, 0, 0, 0,...   1683.0    lot1   \n2  [[0, 0, 0, 0, 0, 0, 0, 0, 0, 0, 0, 0, 0, 0, 0,...   1683.0    lot1   \n3  [[0, 0, 0, 0, 0, 0, 0, 0, 0, 0, 0, 0, 0, 0, 0,...   1683.0    lot1   \n4  [[0, 0, 0, 0, 0, 0, 0, 0, 0, 0, 0, 0, 0, 0, 0,...   1683.0    lot1   \n\n   waferIndex trianTestLabel failureType  \n0         1.0   [[Training]]    [[none]]  \n1         2.0   [[Training]]    [[none]]  \n2         3.0   [[Training]]    [[none]]  \n3         4.0   [[Training]]    [[none]]  \n4         5.0   [[Training]]    [[none]]  ",
      "text/html": "<div>\n<style scoped>\n    .dataframe tbody tr th:only-of-type {\n        vertical-align: middle;\n    }\n\n    .dataframe tbody tr th {\n        vertical-align: top;\n    }\n\n    .dataframe thead th {\n        text-align: right;\n    }\n</style>\n<table border=\"1\" class=\"dataframe\">\n  <thead>\n    <tr style=\"text-align: right;\">\n      <th></th>\n      <th>waferMap</th>\n      <th>dieSize</th>\n      <th>lotName</th>\n      <th>waferIndex</th>\n      <th>trianTestLabel</th>\n      <th>failureType</th>\n    </tr>\n  </thead>\n  <tbody>\n    <tr>\n      <th>0</th>\n      <td>[[0, 0, 0, 0, 0, 0, 0, 0, 0, 0, 0, 0, 0, 0, 0,...</td>\n      <td>1683.0</td>\n      <td>lot1</td>\n      <td>1.0</td>\n      <td>[[Training]]</td>\n      <td>[[none]]</td>\n    </tr>\n    <tr>\n      <th>1</th>\n      <td>[[0, 0, 0, 0, 0, 0, 0, 0, 0, 0, 0, 0, 0, 0, 0,...</td>\n      <td>1683.0</td>\n      <td>lot1</td>\n      <td>2.0</td>\n      <td>[[Training]]</td>\n      <td>[[none]]</td>\n    </tr>\n    <tr>\n      <th>2</th>\n      <td>[[0, 0, 0, 0, 0, 0, 0, 0, 0, 0, 0, 0, 0, 0, 0,...</td>\n      <td>1683.0</td>\n      <td>lot1</td>\n      <td>3.0</td>\n      <td>[[Training]]</td>\n      <td>[[none]]</td>\n    </tr>\n    <tr>\n      <th>3</th>\n      <td>[[0, 0, 0, 0, 0, 0, 0, 0, 0, 0, 0, 0, 0, 0, 0,...</td>\n      <td>1683.0</td>\n      <td>lot1</td>\n      <td>4.0</td>\n      <td>[[Training]]</td>\n      <td>[[none]]</td>\n    </tr>\n    <tr>\n      <th>4</th>\n      <td>[[0, 0, 0, 0, 0, 0, 0, 0, 0, 0, 0, 0, 0, 0, 0,...</td>\n      <td>1683.0</td>\n      <td>lot1</td>\n      <td>5.0</td>\n      <td>[[Training]]</td>\n      <td>[[none]]</td>\n    </tr>\n  </tbody>\n</table>\n</div>"
     },
     "execution_count": 3,
     "metadata": {},
     "output_type": "execute_result"
    }
   ],
   "source": [
    "df.head()               # 返回数据前n行（默认为5）\n"
   ],
   "metadata": {
    "collapsed": false,
    "pycharm": {
     "name": "#%%\n"
    }
   }
  },
  {
   "cell_type": "code",
   "execution_count": 4,
   "outputs": [
    {
     "data": {
      "text/plain": "                                                 waferMap  dieSize   lotName  \\\n811452  [[0, 0, 0, 0, 0, 0, 0, 0, 0, 0, 0, 1, 2, 1, 1,...    600.0  lot47542   \n811453  [[0, 0, 0, 0, 0, 0, 0, 0, 0, 0, 0, 2, 2, 1, 1,...    600.0  lot47542   \n811454  [[0, 0, 0, 0, 0, 0, 0, 0, 0, 0, 0, 1, 2, 1, 1,...    600.0  lot47542   \n811455  [[0, 0, 0, 0, 0, 0, 0, 0, 0, 0, 0, 1, 1, 1, 1,...    600.0  lot47543   \n811456  [[0, 0, 0, 0, 0, 0, 0, 0, 0, 0, 0, 1, 2, 1, 1,...    600.0  lot47543   \n\n        waferIndex trianTestLabel    failureType  \n811452        23.0       [[Test]]  [[Edge-Ring]]  \n811453        24.0       [[Test]]   [[Edge-Loc]]  \n811454        25.0       [[Test]]  [[Edge-Ring]]  \n811455         1.0             []             []  \n811456         2.0             []             []  ",
      "text/html": "<div>\n<style scoped>\n    .dataframe tbody tr th:only-of-type {\n        vertical-align: middle;\n    }\n\n    .dataframe tbody tr th {\n        vertical-align: top;\n    }\n\n    .dataframe thead th {\n        text-align: right;\n    }\n</style>\n<table border=\"1\" class=\"dataframe\">\n  <thead>\n    <tr style=\"text-align: right;\">\n      <th></th>\n      <th>waferMap</th>\n      <th>dieSize</th>\n      <th>lotName</th>\n      <th>waferIndex</th>\n      <th>trianTestLabel</th>\n      <th>failureType</th>\n    </tr>\n  </thead>\n  <tbody>\n    <tr>\n      <th>811452</th>\n      <td>[[0, 0, 0, 0, 0, 0, 0, 0, 0, 0, 0, 1, 2, 1, 1,...</td>\n      <td>600.0</td>\n      <td>lot47542</td>\n      <td>23.0</td>\n      <td>[[Test]]</td>\n      <td>[[Edge-Ring]]</td>\n    </tr>\n    <tr>\n      <th>811453</th>\n      <td>[[0, 0, 0, 0, 0, 0, 0, 0, 0, 0, 0, 2, 2, 1, 1,...</td>\n      <td>600.0</td>\n      <td>lot47542</td>\n      <td>24.0</td>\n      <td>[[Test]]</td>\n      <td>[[Edge-Loc]]</td>\n    </tr>\n    <tr>\n      <th>811454</th>\n      <td>[[0, 0, 0, 0, 0, 0, 0, 0, 0, 0, 0, 1, 2, 1, 1,...</td>\n      <td>600.0</td>\n      <td>lot47542</td>\n      <td>25.0</td>\n      <td>[[Test]]</td>\n      <td>[[Edge-Ring]]</td>\n    </tr>\n    <tr>\n      <th>811455</th>\n      <td>[[0, 0, 0, 0, 0, 0, 0, 0, 0, 0, 0, 1, 1, 1, 1,...</td>\n      <td>600.0</td>\n      <td>lot47543</td>\n      <td>1.0</td>\n      <td>[]</td>\n      <td>[]</td>\n    </tr>\n    <tr>\n      <th>811456</th>\n      <td>[[0, 0, 0, 0, 0, 0, 0, 0, 0, 0, 0, 1, 2, 1, 1,...</td>\n      <td>600.0</td>\n      <td>lot47543</td>\n      <td>2.0</td>\n      <td>[]</td>\n      <td>[]</td>\n    </tr>\n  </tbody>\n</table>\n</div>"
     },
     "execution_count": 4,
     "metadata": {},
     "output_type": "execute_result"
    }
   ],
   "source": [
    "df.tail()               # 返回数据最后n行\n"
   ],
   "metadata": {
    "collapsed": false,
    "pycharm": {
     "name": "#%%\n"
    }
   }
  },
  {
   "cell_type": "code",
   "execution_count": 5,
   "outputs": [
    {
     "data": {
      "text/plain": "<function matplotlib.pyplot.show(close=None, block=None)>"
     },
     "execution_count": 5,
     "metadata": {},
     "output_type": "execute_result"
    },
    {
     "data": {
      "text/plain": "<Figure size 640x480 with 1 Axes>",
      "image/png": "[encoded data removed]"
     },
     "metadata": {},
     "output_type": "display_data"
    }
   ],
   "source": [
    "# unique()去除一维数组中重复元素，return_counts范围数组中每种元素出现的次数\n",
    "uni_Index = np.unique(df.waferIndex, return_counts=True)\n",
    "# plt.bar()绘制柱状图，alpha是透明度，align是对齐方式（center是默认方式）\n",
    "plt.bar(uni_Index[0], uni_Index[1], color='yellow', align='center', alpha=0.5)\n",
    "plt.title(\"wafer index distribution\")       # 图标标题，实测无法输出中文\n",
    "plt.xlabel(\"index #\")                       # x轴标签\n",
    "plt.ylabel(\"frequency\")\n",
    "plt.xlim(0, 26)                             # x轴范围[0, 25)\n",
    "plt.ylim(30000, 34000)\n",
    "plt.show\n"
   ],
   "metadata": {
    "collapsed": false,
    "pycharm": {
     "name": "#%%\n"
    }
   }
  },
  {
   "cell_type": "code",
   "execution_count": 6,
   "outputs": [],
   "source": [
    "df = df.drop(['waferIndex'], axis=1)          # 删除数据集中的waferMap属性，axis=1表示列属性\n"
   ],
   "metadata": {
    "collapsed": false,
    "pycharm": {
     "name": "#%%\n"
    }
   }
  },
  {
   "cell_type": "code",
   "execution_count": 7,
   "outputs": [
    {
     "data": {
      "text/plain": "                                                 waferMap  dieSize   lotName  \\\n416532  [[0, 0, 0, 0, 0, 0, 0, 0, 0, 0, 0, 0, 0, 0, 0,...   2367.0  lot24822   \n42626   [[0, 0, 0, 0, 0, 0, 0, 0, 0, 0, 0, 1, 1, 1, 1,...    515.0   lot3708   \n159622  [[0, 0, 0, 0, 0, 0, 0, 0, 0, 0, 0, 1, 1, 1, 1,...    515.0  lot10284   \n228487  [[0, 0, 0, 0, 0, 0, 0, 0, 0, 0, 0, 0, 0, 0, 0,...   4553.0  lot14336   \n370627  [[0, 0, 0, 0, 0, 0, 0, 0, 0, 0, 0, 0, 0, 0, 0,...   2887.0  lot22151   \n\n       trianTestLabel failureType waferMapDim  \n416532             []          []    (51, 59)  \n42626              []          []    (25, 27)  \n159622             []          []    (25, 27)  \n228487             []          []    (73, 79)  \n370627             []          []    (61, 60)  ",
      "text/html": "<div>\n<style scoped>\n    .dataframe tbody tr th:only-of-type {\n        vertical-align: middle;\n    }\n\n    .dataframe tbody tr th {\n        vertical-align: top;\n    }\n\n    .dataframe thead th {\n        text-align: right;\n    }\n</style>\n<table border=\"1\" class=\"dataframe\">\n  <thead>\n    <tr style=\"text-align: right;\">\n      <th></th>\n      <th>waferMap</th>\n      <th>dieSize</th>\n      <th>lotName</th>\n      <th>trianTestLabel</th>\n      <th>failureType</th>\n      <th>waferMapDim</th>\n    </tr>\n  </thead>\n  <tbody>\n    <tr>\n      <th>416532</th>\n      <td>[[0, 0, 0, 0, 0, 0, 0, 0, 0, 0, 0, 0, 0, 0, 0,...</td>\n      <td>2367.0</td>\n      <td>lot24822</td>\n      <td>[]</td>\n      <td>[]</td>\n      <td>(51, 59)</td>\n    </tr>\n    <tr>\n      <th>42626</th>\n      <td>[[0, 0, 0, 0, 0, 0, 0, 0, 0, 0, 0, 1, 1, 1, 1,...</td>\n      <td>515.0</td>\n      <td>lot3708</td>\n      <td>[]</td>\n      <td>[]</td>\n      <td>(25, 27)</td>\n    </tr>\n    <tr>\n      <th>159622</th>\n      <td>[[0, 0, 0, 0, 0, 0, 0, 0, 0, 0, 0, 1, 1, 1, 1,...</td>\n      <td>515.0</td>\n      <td>lot10284</td>\n      <td>[]</td>\n      <td>[]</td>\n      <td>(25, 27)</td>\n    </tr>\n    <tr>\n      <th>228487</th>\n      <td>[[0, 0, 0, 0, 0, 0, 0, 0, 0, 0, 0, 0, 0, 0, 0,...</td>\n      <td>4553.0</td>\n      <td>lot14336</td>\n      <td>[]</td>\n      <td>[]</td>\n      <td>(73, 79)</td>\n    </tr>\n    <tr>\n      <th>370627</th>\n      <td>[[0, 0, 0, 0, 0, 0, 0, 0, 0, 0, 0, 0, 0, 0, 0,...</td>\n      <td>2887.0</td>\n      <td>lot22151</td>\n      <td>[]</td>\n      <td>[]</td>\n      <td>(61, 60)</td>\n    </tr>\n  </tbody>\n</table>\n</div>"
     },
     "execution_count": 7,
     "metadata": {},
     "output_type": "execute_result"
    }
   ],
   "source": [
    "# np.size()返回数组中所有元素个数（2x3的二维数组就返回6），axis=0返回一行有几个元素，axis=1返回列中元素个数\n",
    "def find_dim(x):\n",
    "    dim0 = np.size(x, axis=0)\n",
    "    dim1 = np.size(x, axis=1)\n",
    "    return dim0,dim1\n",
    "\n",
    "# 给数据集新增属性waferMapDim，新增内容为对数据集中waferMap属性执行函数find_dim()所获得的元素(dim0, dim1)\n",
    "df['waferMapDim'] = df.waferMap.apply(find_dim)\n",
    "df.sample(5)                    # 数据集中简单随机抽样5行\n"
   ],
   "metadata": {
    "collapsed": false,
    "pycharm": {
     "name": "#%%\n"
    }
   }
  },
  {
   "cell_type": "code",
   "execution_count": 8,
   "outputs": [
    {
     "name": "stdout",
     "output_type": "stream",
     "text": [
      "Maximum dimension of wafer map:  (300, 202)\n",
      "Minimum dimension of wafer map:  (6, 21)\n"
     ]
    }
   ],
   "source": [
    "# 输出最大的和最小的晶圆图尺寸\n",
    "print(\"Maximum dimension of wafer map: \", max(df.waferMapDim))\n",
    "print(\"Minimum dimension of wafer map: \", min(df.waferMapDim))\n"
   ],
   "metadata": {
    "collapsed": false,
    "pycharm": {
     "name": "#%%\n"
    }
   }
  },
  {
   "cell_type": "code",
   "execution_count": null,
   "outputs": [],
   "source": [],
   "metadata": {
    "collapsed": false,
    "pycharm": {
     "name": "#%%\n"
    }
   }
  }
 ],
 "metadata": {
  "kernelspec": {
   "display_name": "Python 3",
   "language": "python",
   "name": "python3"
  },
  "language_info": {
   "codemirror_mode": {
    "name": "ipython",
    "version": 2
   },
   "file_extension": ".py",
   "mimetype": "text/x-python",
   "name": "python",
   "nbconvert_exporter": "python",
   "pygments_lexer": "ipython2",
   "version": "2.7.6"
  }
 },
 "nbformat": 4,
 "nbformat_minor": 0
}